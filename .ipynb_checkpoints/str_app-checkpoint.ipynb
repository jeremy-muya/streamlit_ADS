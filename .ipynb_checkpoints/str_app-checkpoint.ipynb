{
 "cells": [
  {
   "cell_type": "code",
   "execution_count": 3,
   "id": "13b3a9c4",
   "metadata": {},
   "outputs": [],
   "source": [
    "import streamlit as st\n",
    "import pandas as pd\n",
    "import plotly.express as px\n",
    "import seaborn as sns\n",
    "import matplotlib.pyplot as plt\n",
    "from sklearn.ensemble import RandomForestClassifier\n",
    "import joblib"
   ]
  },
  {
   "cell_type": "code",
   "execution_count": 4,
   "id": "2a1f767f",
   "metadata": {},
   "outputs": [],
   "source": [
    "# Load the saved model\n",
    "model_path = \"C:/Users/HP/Documents/Hotel/best_random_forest_model.pkl\"\n",
    "best_model = joblib.load(model_path)"
   ]
  },
  {
   "cell_type": "code",
   "execution_count": 15,
   "id": "08ec9269",
   "metadata": {},
   "outputs": [],
   "source": [
    "# Load the dataset (for preview)\n",
    "csv_path = \"C:/Users/HP/Documents/Hotel/hotel_bookings.csv\"\n",
    "df_preview = pd.read_csv(csv_path, nrows=4)"
   ]
  },
  {
   "cell_type": "code",
   "execution_count": 6,
   "id": "0f496df5",
   "metadata": {},
   "outputs": [],
   "source": [
    "# Load the full dataset for visualizations\n",
    "df_visualization = pd.read_csv(csv_path)"
   ]
  },
  {
   "cell_type": "code",
   "execution_count": 7,
   "id": "b3b2a400",
   "metadata": {},
   "outputs": [
    {
     "name": "stderr",
     "output_type": "stream",
     "text": [
      "2024-01-15 17:07:47.175 \n",
      "  \u001b[33m\u001b[1mWarning:\u001b[0m to view this Streamlit app on a browser, run it with the following\n",
      "  command:\n",
      "\n",
      "    streamlit run C:\\Users\\HP\\New folder\\lib\\site-packages\\ipykernel_launcher.py [ARGUMENTS]\n"
     ]
    },
    {
     "data": {
      "text/plain": [
       "DeltaGenerator()"
      ]
     },
     "execution_count": 7,
     "metadata": {},
     "output_type": "execute_result"
    }
   ],
   "source": [
    "# Streamlit App\n",
    "st.title(\"Hotel Booking Prediction with Random Forest Model\")"
   ]
  },
  {
   "cell_type": "code",
   "execution_count": 8,
   "id": "51eb5394",
   "metadata": {},
   "outputs": [
    {
     "data": {
      "text/plain": [
       "DeltaGenerator()"
      ]
     },
     "execution_count": 8,
     "metadata": {},
     "output_type": "execute_result"
    }
   ],
   "source": [
    "# Dataset Preview\n",
    "st.subheader(\"Dataset Preview:\")\n",
    "st.dataframe(df_preview)"
   ]
  },
  {
   "cell_type": "code",
   "execution_count": 9,
   "id": "90727e30",
   "metadata": {},
   "outputs": [],
   "source": [
    "# Model Description\n",
    "st.subheader(\"Model Description:\")\n",
    "st.write(\"This Streamlit app uses a Random Forest model to predict hotel booking cancellations. \"\n",
    "         \"The model has been trained on a dataset containing various features related to hotel bookings.\")"
   ]
  },
  {
   "cell_type": "code",
   "execution_count": 10,
   "id": "e1a2872e",
   "metadata": {},
   "outputs": [],
   "source": [
    "# User Input Section\n",
    "st.sidebar.title(\"User Input:\")\n",
    "st.sidebar.write(\"Provide values for prediction:\")"
   ]
  },
  {
   "cell_type": "code",
   "execution_count": 11,
   "id": "7205bc45",
   "metadata": {},
   "outputs": [
    {
     "ename": "NameError",
     "evalue": "name 'X_train' is not defined",
     "output_type": "error",
     "traceback": [
      "\u001b[1;31m---------------------------------------------------------------------------\u001b[0m",
      "\u001b[1;31mNameError\u001b[0m                                 Traceback (most recent call last)",
      "\u001b[1;32m~\\AppData\\Local\\Temp\\ipykernel_4036\\3500166104.py\u001b[0m in \u001b[0;36m<module>\u001b[1;34m\u001b[0m\n\u001b[0;32m      1\u001b[0m \u001b[1;31m# Assuming the same features used during training for simplicity\u001b[0m\u001b[1;33m\u001b[0m\u001b[1;33m\u001b[0m\u001b[0m\n\u001b[1;32m----> 2\u001b[1;33m \u001b[0mfeatures\u001b[0m \u001b[1;33m=\u001b[0m \u001b[0mX_train\u001b[0m\u001b[1;33m.\u001b[0m\u001b[0mcolumns\u001b[0m\u001b[1;33m\u001b[0m\u001b[1;33m\u001b[0m\u001b[0m\n\u001b[0m\u001b[0;32m      3\u001b[0m \u001b[1;33m\u001b[0m\u001b[0m\n\u001b[0;32m      4\u001b[0m \u001b[0muser_input\u001b[0m \u001b[1;33m=\u001b[0m \u001b[1;33m{\u001b[0m\u001b[1;33m}\u001b[0m\u001b[1;33m\u001b[0m\u001b[1;33m\u001b[0m\u001b[0m\n\u001b[0;32m      5\u001b[0m \u001b[1;32mfor\u001b[0m \u001b[0mfeature\u001b[0m \u001b[1;32min\u001b[0m \u001b[0mfeatures\u001b[0m\u001b[1;33m:\u001b[0m\u001b[1;33m\u001b[0m\u001b[1;33m\u001b[0m\u001b[0m\n",
      "\u001b[1;31mNameError\u001b[0m: name 'X_train' is not defined"
     ]
    }
   ],
   "source": [
    "# Assuming the same features used during training for simplicity\n",
    "features = X_train.columns\n",
    "\n",
    "user_input = {}\n",
    "for feature in features:\n",
    "    user_input[feature] = st.sidebar.number_input(f\"Enter {feature}:\", min_value=0, value=0)"
   ]
  },
  {
   "cell_type": "code",
   "execution_count": null,
   "id": "766988a8",
   "metadata": {},
   "outputs": [],
   "source": [
    "# Convert user input to DataFrame for prediction\n",
    "input_df = pd.DataFrame([user_input])\n",
    "\n",
    "# Make Prediction\n",
    "if st.sidebar.button(\"Predict\"):\n",
    "    prediction = best_model.predict(input_df)\n",
    "    st.sidebar.success(f\"Prediction: {'Canceled' if prediction[0] == 1 else 'Not Canceled'}\")\n",
    "\n",
    "# Model Performance Metrics (for reference)\n",
    "st.subheader(\"Model Performance Metrics (for reference):\")\n",
    "st.write(f\"Accuracy: {accuracy}\")\n",
    "st.write(classification_report(y_test, predictions))\n",
    "st.write(confusion_matrix(y_test, predictions))\n",
    "\n",
    "# Visualizations\n",
    "st.subheader(\"Data Visualizations:\")\n",
    "\n",
    "# Bar chart for target variable distribution using Plotly\n",
    "fig_bar = px.bar(df_visualization['is_canceled'].value_counts(), x=df_visualization['is_canceled'].value_counts().index, y=df_visualization['is_canceled'].value_counts().values, labels={'y': 'Count', 'x': 'Booking Cancellation'}, text=df_visualization['is_canceled'].value_counts().values, title='Booking Cancellation Distribution')\n",
    "fig_bar.update_traces(texttemplate='%{text}', textposition='outside')\n",
    "st.plotly_chart(fig_bar)\n",
    "\n",
    "# Heatmap for feature correlation using Plotly\n",
    "fig_heatmap = px.imshow(df_visualization.corr(), labels=dict(x=\"Features\", y=\"Features\", color=\"Correlation\"), title=\"Feature Correlation Heatmap\")\n",
    "st.plotly_chart(fig_heatmap)"
   ]
  }
 ],
 "metadata": {
  "kernelspec": {
   "display_name": "Python 3 (ipykernel)",
   "language": "python",
   "name": "python3"
  },
  "language_info": {
   "codemirror_mode": {
    "name": "ipython",
    "version": 3
   },
   "file_extension": ".py",
   "mimetype": "text/x-python",
   "name": "python",
   "nbconvert_exporter": "python",
   "pygments_lexer": "ipython3",
   "version": "3.9.13"
  }
 },
 "nbformat": 4,
 "nbformat_minor": 5
}
